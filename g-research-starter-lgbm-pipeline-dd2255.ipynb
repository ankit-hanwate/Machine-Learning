{
 "cells": [
  {
   "cell_type": "markdown",
   "id": "1949cfd8",
   "metadata": {
    "papermill": {
     "duration": 0.016701,
     "end_time": "2021-12-01T09:43:34.513516",
     "exception": false,
     "start_time": "2021-12-01T09:43:34.496815",
     "status": "completed"
    },
    "tags": []
   },
   "source": [
    "# 🪙 G-Research Crypto - Starter LGBM Pipeline\n",
    "![](https://storage.googleapis.com/kaggle-competitions/kaggle/30894/logos/header.png)\n",
    "\n",
    "\n",
    "\n",
    "<h3 style=\"text-align:center; background-color:yellow;padding:40px;border-radius: 30px;\">\n",
    "    <b>Warning</b>: as pointed out in <a href=\"https://www.kaggle.com/julian3833/g-research-starter-lgbm-pipeline-leaky/comments#1569600\">this comment</a>, the test data is contained in the train data 😒, so the LB score of <i>0.201</i> is definitely overfitting.\n",
    "    <br><br>\n",
    "    The current version drops the data that overlaps (or even is in the future of) the LB test data.\n",
    "    I have no more submission quota for today to test the results removing the overlap, but it should drop sharply, so don't trust the LB of this kernel or its public forks.\n",
    "</h3>\n",
    "\n",
    "\n",
    "### Just a simple pipeline going from zero to a valid submission\n",
    "\n",
    "We train one `LGBMRegressor` for each asset over a very very naive set of features (the input dataframe `['Count', 'Open', 'High', 'Low', 'Close', 'Volume', 'VWAP']`), we get the predictions correctly using the iterator and we submit. No validation for now, no cross validation... nothing at all lol: just the bare pipeline!\n",
    "\n",
    "\n",
    "## Please _DO_ upvote if you find this useful!\n",
    "\n",
    "## References:\n",
    "* [Detailed API Introduction](https://www.kaggle.com/sohier/detailed-api-introduction)\n",
    "* [Basic Submission Template](https://www.kaggle.com/sohier/basic-submission-template)\n",
    "* [Tutorial to the G-Research Crypto Competition](https://www.kaggle.com/cstein06/tutorial-to-the-g-research-crypto-competition)\n",
    "\n",
    "\n",
    "\n",
    "__Changelog__\n",
    "\n",
    "__V13__: Added flag `REMOVE_LB_TEST_OVERLAPPING_DATA` to keep only train data that is _before_ the LB test data\n",
    "\n",
    "__V5__: Added two non-timely features from the tutorial: `Upper_Shadow` and `Lower_Shadow`"
   ]
  },
  {
   "cell_type": "markdown",
   "id": "f001866e",
   "metadata": {
    "papermill": {
     "duration": 0.015171,
     "end_time": "2021-12-01T09:43:34.544812",
     "exception": false,
     "start_time": "2021-12-01T09:43:34.529641",
     "status": "completed"
    },
    "tags": []
   },
   "source": [
    "# Import and load dfs\n",
    "\n",
    "References: [Tutorial to the G-Research Crypto Competition](https://www.kaggle.com/cstein06/tutorial-to-the-g-research-crypto-competition)"
   ]
  },
  {
   "cell_type": "code",
   "execution_count": 1,
   "id": "83365740",
   "metadata": {
    "execution": {
     "iopub.execute_input": "2021-12-01T09:43:34.582354Z",
     "iopub.status.busy": "2021-12-01T09:43:34.581092Z",
     "iopub.status.idle": "2021-12-01T09:43:36.682305Z",
     "shell.execute_reply": "2021-12-01T09:43:36.682916Z",
     "shell.execute_reply.started": "2021-12-01T09:40:16.406634Z"
    },
    "papermill": {
     "duration": 2.120841,
     "end_time": "2021-12-01T09:43:36.683218",
     "exception": false,
     "start_time": "2021-12-01T09:43:34.562377",
     "status": "completed"
    },
    "tags": []
   },
   "outputs": [
    {
     "data": {
      "text/html": [
       "<style type='text/css'>\n",
       ".datatable table.frame { margin-bottom: 0; }\n",
       ".datatable table.frame thead { border-bottom: none; }\n",
       ".datatable table.frame tr.coltypes td {  color: #FFFFFF;  line-height: 6px;  padding: 0 0.5em;}\n",
       ".datatable .bool    { background: #DDDD99; }\n",
       ".datatable .object  { background: #565656; }\n",
       ".datatable .int     { background: #5D9E5D; }\n",
       ".datatable .float   { background: #4040CC; }\n",
       ".datatable .str     { background: #CC4040; }\n",
       ".datatable .time    { background: #40CC40; }\n",
       ".datatable .row_index {  background: var(--jp-border-color3);  border-right: 1px solid var(--jp-border-color0);  color: var(--jp-ui-font-color3);  font-size: 9px;}\n",
       ".datatable .frame tbody td { text-align: left; }\n",
       ".datatable .frame tr.coltypes .row_index {  background: var(--jp-border-color0);}\n",
       ".datatable th:nth-child(2) { padding-left: 12px; }\n",
       ".datatable .hellipsis {  color: var(--jp-cell-editor-border-color);}\n",
       ".datatable .vellipsis {  background: var(--jp-layout-color0);  color: var(--jp-cell-editor-border-color);}\n",
       ".datatable .na {  color: var(--jp-cell-editor-border-color);  font-size: 80%;}\n",
       ".datatable .sp {  opacity: 0.25;}\n",
       ".datatable .footer { font-size: 9px; }\n",
       ".datatable .frame_dimensions {  background: var(--jp-border-color3);  border-top: 1px solid var(--jp-border-color0);  color: var(--jp-ui-font-color3);  display: inline-block;  opacity: 0.6;  padding: 1px 10px 1px 5px;}\n",
       ".datatable .frame thead tr.colnames {  background-image: url('data:image/png;base64,iVBORw0KGgoAAAANSUhEUgAAABwAAAA4CAYAAADuMJi0AAAGR0lEQVR42rVZ21IbRxBtCbQrkIR2dQVjsLmDLBsET3nTQ8ouYRkQVf6e/E9+Im958qMfkgoXAaKSSj6C9Jnd2R2NeiRSRaZqitVOT5+Z6dNnWoKGlN94JFp8Ipofkb/7SOXjGyp8wF+z35K3f0uUp/GW4XfLQ8v2gefj3ZCCzojoNfue+43o1Q3l3xB/yA3JO7jnF2pCLnI+pNyx/qw7L+SQ7T2N9p2f8c60QcfcK6KGXsAd+ZvA4LlZYuSSAoOhMs5vwJkEGDlbPMaJoA+FcQ0IH38QLWkbAFLkOOhoMF5tU6/eBRhNjro0ZgKiPRAt3FLhCO/vqdgmNTm32LkmKpvBmQY4q5uAaAgbwDBG2BVv3bfI8KKAMWj2kfw9+pkZREIbEql4ST1x7hgHIANkbJ//MF8mAH/ilTCJ2tIi4ASr1IC3VNqXHKOxjy34mgoImnOQtx1g81fkqTiMOBVGcTogNhiT5iBHET8R8C+iApJUmgim3SQAXhsLQz7ee2G8gOAQNtJckBEplADiAxtX+G9NmhDl0qJKnTvyWlAMPYZnvIviGXRg6/Dh824DBXhP/tbfREXJEIvQ+aaPGjG7pvw6r3xdx+9hqb4dgZaP2XmdHO2K/B0c1+oUph6k8kShBryl/Ft0DYgjTlOieOACHFFpVyUl72T9V3cM1jUoYvxIC2vpCSys/ck70mDYuYvdvKjlMdKAUThneWVU1aAsyjv6PURDiwNsHGBZzY+JtAAgE2TFxdRHJdyIp/f+zqu09M5cDP2F08Ukkpj4YNSdX950HY2pNCCUK/Hhx5ZMBfjNSEzdsIihVzzAMdn9dz4eDYhnyQb9SSCiAryiJcQk82LiTbJ4x2FZJaUenpKnzP95WyDf4Y+QN9EFHHSeDLGdBjjKNQ5vKHf4XMA7KrY0y0GEObBOO/8e1ywuQExOHXktuQyJALEBpcEqhwtHqgiDuCK5b6i0p2MQpcckIIoh+6hYgTZtO8xlMi6O4tKCF/kOGHEg/W0UUpHW0ZoGNZ1ExZWcn7EErgwt4uj50E/sFBjXXIayWvh7WryjasxarZKssXon0zxvvkc32Q0bqbBCuZiKt9dWFysfQefeL29JYFaeztX6tePaZdz5mYx8+6Zq3Mk0wXECQxlhdzgS2wjBHju3j1RIgKyOMdNUE8X0+RAdbSapS11MRCv1SzUXmO6wGZe2SQYrv2MvCSWEv2VODE6DN7bz8ufypgQKW7uQskFTQHULLKyaEyrnlZbgOGLrV5qrn9U79jjm2HJmgkaVN98AfBub91lGPLZBqdroN5LYgjSu4zYZDDHXZOIPC691HqrWI1900I8qLzgKP4ft8DxEWigprPfrO+KcXno9gZz4jjGewWdUcpGCj0qVFuGPYbl2VturndZ2qRvlL8acDO6lF/DY/VjsFesiUK+ypJ+r/ep+cJkSQxEK4PG4WozgA75TYrDDqStE69K8/mzGEM+JXTeqvmedEElMmwCMm2SLd6bNNF9su02zEtoW6nAQtpMj5Gd7fKa//wqonF7UdtHFsVn+6hf1o7AfriPH7M6EeIUEF5zKVxXbYo7kS/OEtOqDYZKPoBsETIixn0uYrasThmzDkhdKPkz2EnaX0HdQbIgr59vAdGYDqjHrxkjS7WOxkTD8sqEqhiwcJETgBYigrBqF08KyDaje9SZ/I1A7MzaTzMGDEulPtZUkuKcyIRAjxEJPVrnVlb/9wkfij31D/pQt1IN+iL8bGJcstBIO7Y5VI/cwDqURbXhMuJxBqD0KLoK3esWFs0Jz5i5ZvJUAfFJMFb9XmGIOnzGpijpcWYCaMqXSQWp8EnCABepQ0Elyi4wfKfsw78ikIqif1pe1AGPlLmojl1SKxHHXp1L+Ut7AmDQHvhI5xHGi4EooO2BR7k78PEkJOdL7cAxQUZ/Tyclu9gnfwGgOmm2lNHGNmZXsq4Pqgc1EG1ATrvKl8s4R9ywwnqulGUnaRLVhxy8v3ieUwy2hbooT68uscW++DCDH0WSzuoyN2D4LUJ/tLECbcSKznwMIFs0ChF4mRTCnQbIIfk4SHJo6A9BMuTnXTs3Ku/KxsgZWqzuSe+Os8cEUfnMBY6UF5gi3SUbd5K7vDjq5WW0UENJlRsWn4sy21Er/E/AvPQSFHy1p4fgAAAAASUVORK5CYII=');  background-repeat: repeat-x;  background-size: 14px;  height: 28px;}\n",
       "</style>\n"
      ],
      "text/plain": [
       "<IPython.core.display.HTML object>"
      ]
     },
     "metadata": {},
     "output_type": "display_data"
    }
   ],
   "source": [
    "import os\n",
    "import random\n",
    "import pandas as pd\n",
    "import numpy as np\n",
    "from lightgbm import LGBMRegressor\n",
    "import gresearch_crypto\n",
    "\n",
    "\n",
    "TRAIN_CSV = '/kaggle/input/g-research-crypto-forecasting/train.csv'\n",
    "ASSET_DETAILS_CSV = '/kaggle/input/g-research-crypto-forecasting/asset_details.csv'\n",
    "\n",
    "SEED = 2021\n",
    "\n",
    "REMOVE_LB_TEST_OVERLAPPING_DATA = True"
   ]
  },
  {
   "cell_type": "code",
   "execution_count": 2,
   "id": "d75bda58",
   "metadata": {
    "execution": {
     "iopub.execute_input": "2021-12-01T09:43:36.719952Z",
     "iopub.status.busy": "2021-12-01T09:43:36.719254Z",
     "iopub.status.idle": "2021-12-01T09:43:36.723848Z",
     "shell.execute_reply": "2021-12-01T09:43:36.724376Z",
     "shell.execute_reply.started": "2021-12-01T09:40:31.299506Z"
    },
    "papermill": {
     "duration": 0.024302,
     "end_time": "2021-12-01T09:43:36.724540",
     "exception": false,
     "start_time": "2021-12-01T09:43:36.700238",
     "status": "completed"
    },
    "tags": []
   },
   "outputs": [],
   "source": [
    "def fix_all_seeds(seed):\n",
    "    np.random.seed(seed)\n",
    "    random.seed(seed)\n",
    "    os.environ['PYTHONHASHSEED'] = str(seed)\n",
    "\n",
    "fix_all_seeds(SEED)"
   ]
  },
  {
   "cell_type": "code",
   "execution_count": 3,
   "id": "d11048f6",
   "metadata": {
    "execution": {
     "iopub.execute_input": "2021-12-01T09:43:36.760607Z",
     "iopub.status.busy": "2021-12-01T09:43:36.759948Z",
     "iopub.status.idle": "2021-12-01T09:44:37.949056Z",
     "shell.execute_reply": "2021-12-01T09:44:37.949571Z",
     "shell.execute_reply.started": "2021-12-01T09:40:32.028580Z"
    },
    "papermill": {
     "duration": 61.20893,
     "end_time": "2021-12-01T09:44:37.949779",
     "exception": false,
     "start_time": "2021-12-01T09:43:36.740849",
     "status": "completed"
    },
    "tags": []
   },
   "outputs": [
    {
     "data": {
      "text/html": [
       "<div>\n",
       "<style scoped>\n",
       "    .dataframe tbody tr th:only-of-type {\n",
       "        vertical-align: middle;\n",
       "    }\n",
       "\n",
       "    .dataframe tbody tr th {\n",
       "        vertical-align: top;\n",
       "    }\n",
       "\n",
       "    .dataframe thead th {\n",
       "        text-align: right;\n",
       "    }\n",
       "</style>\n",
       "<table border=\"1\" class=\"dataframe\">\n",
       "  <thead>\n",
       "    <tr style=\"text-align: right;\">\n",
       "      <th></th>\n",
       "      <th>timestamp</th>\n",
       "      <th>Asset_ID</th>\n",
       "      <th>Count</th>\n",
       "      <th>Open</th>\n",
       "      <th>High</th>\n",
       "      <th>Low</th>\n",
       "      <th>Close</th>\n",
       "      <th>Volume</th>\n",
       "      <th>VWAP</th>\n",
       "      <th>Target</th>\n",
       "    </tr>\n",
       "  </thead>\n",
       "  <tbody>\n",
       "    <tr>\n",
       "      <th>0</th>\n",
       "      <td>1514764860</td>\n",
       "      <td>2</td>\n",
       "      <td>40.0</td>\n",
       "      <td>2376.5800</td>\n",
       "      <td>2399.5000</td>\n",
       "      <td>2357.1400</td>\n",
       "      <td>2374.5900</td>\n",
       "      <td>19.233005</td>\n",
       "      <td>2373.116392</td>\n",
       "      <td>-0.004218</td>\n",
       "    </tr>\n",
       "    <tr>\n",
       "      <th>1</th>\n",
       "      <td>1514764860</td>\n",
       "      <td>0</td>\n",
       "      <td>5.0</td>\n",
       "      <td>8.5300</td>\n",
       "      <td>8.5300</td>\n",
       "      <td>8.5300</td>\n",
       "      <td>8.5300</td>\n",
       "      <td>78.380000</td>\n",
       "      <td>8.530000</td>\n",
       "      <td>-0.014399</td>\n",
       "    </tr>\n",
       "    <tr>\n",
       "      <th>2</th>\n",
       "      <td>1514764860</td>\n",
       "      <td>1</td>\n",
       "      <td>229.0</td>\n",
       "      <td>13835.1940</td>\n",
       "      <td>14013.8000</td>\n",
       "      <td>13666.1100</td>\n",
       "      <td>13850.1760</td>\n",
       "      <td>31.550062</td>\n",
       "      <td>13827.062093</td>\n",
       "      <td>-0.014643</td>\n",
       "    </tr>\n",
       "    <tr>\n",
       "      <th>3</th>\n",
       "      <td>1514764860</td>\n",
       "      <td>5</td>\n",
       "      <td>32.0</td>\n",
       "      <td>7.6596</td>\n",
       "      <td>7.6596</td>\n",
       "      <td>7.6567</td>\n",
       "      <td>7.6576</td>\n",
       "      <td>6626.713370</td>\n",
       "      <td>7.657713</td>\n",
       "      <td>-0.013922</td>\n",
       "    </tr>\n",
       "    <tr>\n",
       "      <th>4</th>\n",
       "      <td>1514764860</td>\n",
       "      <td>7</td>\n",
       "      <td>5.0</td>\n",
       "      <td>25.9200</td>\n",
       "      <td>25.9200</td>\n",
       "      <td>25.8740</td>\n",
       "      <td>25.8770</td>\n",
       "      <td>121.087310</td>\n",
       "      <td>25.891363</td>\n",
       "      <td>-0.008264</td>\n",
       "    </tr>\n",
       "  </tbody>\n",
       "</table>\n",
       "</div>"
      ],
      "text/plain": [
       "    timestamp  Asset_ID  Count        Open        High         Low  \\\n",
       "0  1514764860         2   40.0   2376.5800   2399.5000   2357.1400   \n",
       "1  1514764860         0    5.0      8.5300      8.5300      8.5300   \n",
       "2  1514764860         1  229.0  13835.1940  14013.8000  13666.1100   \n",
       "3  1514764860         5   32.0      7.6596      7.6596      7.6567   \n",
       "4  1514764860         7    5.0     25.9200     25.9200     25.8740   \n",
       "\n",
       "        Close       Volume          VWAP    Target  \n",
       "0   2374.5900    19.233005   2373.116392 -0.004218  \n",
       "1      8.5300    78.380000      8.530000 -0.014399  \n",
       "2  13850.1760    31.550062  13827.062093 -0.014643  \n",
       "3      7.6576  6626.713370      7.657713 -0.013922  \n",
       "4     25.8770   121.087310     25.891363 -0.008264  "
      ]
     },
     "execution_count": 3,
     "metadata": {},
     "output_type": "execute_result"
    }
   ],
   "source": [
    "df_train = pd.read_csv(TRAIN_CSV)\n",
    "df_train.head()"
   ]
  },
  {
   "cell_type": "markdown",
   "id": "386d8b2a",
   "metadata": {
    "papermill": {
     "duration": 0.016576,
     "end_time": "2021-12-01T09:44:37.983415",
     "exception": false,
     "start_time": "2021-12-01T09:44:37.966839",
     "status": "completed"
    },
    "tags": []
   },
   "source": [
    "## Keep only values _before_ the LB test set"
   ]
  },
  {
   "cell_type": "code",
   "execution_count": 4,
   "id": "cbd65041",
   "metadata": {
    "execution": {
     "iopub.execute_input": "2021-12-01T09:44:38.028601Z",
     "iopub.status.busy": "2021-12-01T09:44:38.027838Z",
     "iopub.status.idle": "2021-12-01T09:44:40.958499Z",
     "shell.execute_reply": "2021-12-01T09:44:40.959049Z",
     "shell.execute_reply.started": "2021-12-01T09:41:35.605710Z"
    },
    "papermill": {
     "duration": 2.95889,
     "end_time": "2021-12-01T09:44:40.959251",
     "exception": false,
     "start_time": "2021-12-01T09:44:38.000361",
     "status": "completed"
    },
    "tags": []
   },
   "outputs": [],
   "source": [
    "# Remove the future\n",
    "if REMOVE_LB_TEST_OVERLAPPING_DATA:\n",
    "    df_train['datetime'] = pd.to_datetime(df_train['timestamp'], unit='s')\n",
    "    df_train = df_train[df_train['datetime'] < '2021-06-13 00:00:00']"
   ]
  },
  {
   "cell_type": "code",
   "execution_count": 5,
   "id": "f2db93f3",
   "metadata": {
    "execution": {
     "iopub.execute_input": "2021-12-01T09:44:40.998525Z",
     "iopub.status.busy": "2021-12-01T09:44:40.997851Z",
     "iopub.status.idle": "2021-12-01T09:44:41.013975Z",
     "shell.execute_reply": "2021-12-01T09:44:41.014560Z",
     "shell.execute_reply.started": "2021-12-01T09:41:39.727184Z"
    },
    "papermill": {
     "duration": 0.038358,
     "end_time": "2021-12-01T09:44:41.014762",
     "exception": false,
     "start_time": "2021-12-01T09:44:40.976404",
     "status": "completed"
    },
    "tags": []
   },
   "outputs": [
    {
     "data": {
      "text/html": [
       "<div>\n",
       "<style scoped>\n",
       "    .dataframe tbody tr th:only-of-type {\n",
       "        vertical-align: middle;\n",
       "    }\n",
       "\n",
       "    .dataframe tbody tr th {\n",
       "        vertical-align: top;\n",
       "    }\n",
       "\n",
       "    .dataframe thead th {\n",
       "        text-align: right;\n",
       "    }\n",
       "</style>\n",
       "<table border=\"1\" class=\"dataframe\">\n",
       "  <thead>\n",
       "    <tr style=\"text-align: right;\">\n",
       "      <th></th>\n",
       "      <th>Asset_ID</th>\n",
       "      <th>Weight</th>\n",
       "      <th>Asset_Name</th>\n",
       "    </tr>\n",
       "  </thead>\n",
       "  <tbody>\n",
       "    <tr>\n",
       "      <th>1</th>\n",
       "      <td>0</td>\n",
       "      <td>4.304065</td>\n",
       "      <td>Binance Coin</td>\n",
       "    </tr>\n",
       "    <tr>\n",
       "      <th>2</th>\n",
       "      <td>1</td>\n",
       "      <td>6.779922</td>\n",
       "      <td>Bitcoin</td>\n",
       "    </tr>\n",
       "    <tr>\n",
       "      <th>0</th>\n",
       "      <td>2</td>\n",
       "      <td>2.397895</td>\n",
       "      <td>Bitcoin Cash</td>\n",
       "    </tr>\n",
       "    <tr>\n",
       "      <th>10</th>\n",
       "      <td>3</td>\n",
       "      <td>4.406719</td>\n",
       "      <td>Cardano</td>\n",
       "    </tr>\n",
       "    <tr>\n",
       "      <th>13</th>\n",
       "      <td>4</td>\n",
       "      <td>3.555348</td>\n",
       "      <td>Dogecoin</td>\n",
       "    </tr>\n",
       "    <tr>\n",
       "      <th>3</th>\n",
       "      <td>5</td>\n",
       "      <td>1.386294</td>\n",
       "      <td>EOS.IO</td>\n",
       "    </tr>\n",
       "    <tr>\n",
       "      <th>5</th>\n",
       "      <td>6</td>\n",
       "      <td>5.894403</td>\n",
       "      <td>Ethereum</td>\n",
       "    </tr>\n",
       "    <tr>\n",
       "      <th>4</th>\n",
       "      <td>7</td>\n",
       "      <td>2.079442</td>\n",
       "      <td>Ethereum Classic</td>\n",
       "    </tr>\n",
       "    <tr>\n",
       "      <th>11</th>\n",
       "      <td>8</td>\n",
       "      <td>1.098612</td>\n",
       "      <td>IOTA</td>\n",
       "    </tr>\n",
       "    <tr>\n",
       "      <th>6</th>\n",
       "      <td>9</td>\n",
       "      <td>2.397895</td>\n",
       "      <td>Litecoin</td>\n",
       "    </tr>\n",
       "    <tr>\n",
       "      <th>12</th>\n",
       "      <td>10</td>\n",
       "      <td>1.098612</td>\n",
       "      <td>Maker</td>\n",
       "    </tr>\n",
       "    <tr>\n",
       "      <th>7</th>\n",
       "      <td>11</td>\n",
       "      <td>1.609438</td>\n",
       "      <td>Monero</td>\n",
       "    </tr>\n",
       "    <tr>\n",
       "      <th>9</th>\n",
       "      <td>12</td>\n",
       "      <td>2.079442</td>\n",
       "      <td>Stellar</td>\n",
       "    </tr>\n",
       "    <tr>\n",
       "      <th>8</th>\n",
       "      <td>13</td>\n",
       "      <td>1.791759</td>\n",
       "      <td>TRON</td>\n",
       "    </tr>\n",
       "  </tbody>\n",
       "</table>\n",
       "</div>"
      ],
      "text/plain": [
       "    Asset_ID    Weight        Asset_Name\n",
       "1          0  4.304065      Binance Coin\n",
       "2          1  6.779922           Bitcoin\n",
       "0          2  2.397895      Bitcoin Cash\n",
       "10         3  4.406719           Cardano\n",
       "13         4  3.555348          Dogecoin\n",
       "3          5  1.386294            EOS.IO\n",
       "5          6  5.894403          Ethereum\n",
       "4          7  2.079442  Ethereum Classic\n",
       "11         8  1.098612              IOTA\n",
       "6          9  2.397895          Litecoin\n",
       "12        10  1.098612             Maker\n",
       "7         11  1.609438            Monero\n",
       "9         12  2.079442           Stellar\n",
       "8         13  1.791759              TRON"
      ]
     },
     "execution_count": 5,
     "metadata": {},
     "output_type": "execute_result"
    }
   ],
   "source": [
    "df_asset_details = pd.read_csv(ASSET_DETAILS_CSV).sort_values(\"Asset_ID\")\n",
    "df_asset_details"
   ]
  },
  {
   "cell_type": "markdown",
   "id": "511568a4",
   "metadata": {
    "papermill": {
     "duration": 0.016825,
     "end_time": "2021-12-01T09:44:41.049727",
     "exception": false,
     "start_time": "2021-12-01T09:44:41.032902",
     "status": "completed"
    },
    "tags": []
   },
   "source": [
    "# Training"
   ]
  },
  {
   "cell_type": "markdown",
   "id": "5c600806",
   "metadata": {
    "papermill": {
     "duration": 0.017274,
     "end_time": "2021-12-01T09:44:41.084141",
     "exception": false,
     "start_time": "2021-12-01T09:44:41.066867",
     "status": "completed"
    },
    "tags": []
   },
   "source": [
    "## Utility functions to train a model for one asset"
   ]
  },
  {
   "cell_type": "code",
   "execution_count": 6,
   "id": "61fb0f7c",
   "metadata": {
    "execution": {
     "iopub.execute_input": "2021-12-01T09:44:41.121574Z",
     "iopub.status.busy": "2021-12-01T09:44:41.120880Z",
     "iopub.status.idle": "2021-12-01T09:44:41.129557Z",
     "shell.execute_reply": "2021-12-01T09:44:41.130184Z",
     "shell.execute_reply.started": "2021-12-01T09:42:00.895741Z"
    },
    "papermill": {
     "duration": 0.029155,
     "end_time": "2021-12-01T09:44:41.130353",
     "exception": false,
     "start_time": "2021-12-01T09:44:41.101198",
     "status": "completed"
    },
    "tags": []
   },
   "outputs": [],
   "source": [
    "# Two new features from the competition tutorial\n",
    "def upper_shadow(df):\n",
    "    return df['High'] - np.maximum(df['Close'], df['Open'])\n",
    "\n",
    "def lower_shadow(df):\n",
    "    return np.minimum(df['Close'], df['Open']) - df['Low']\n",
    "\n",
    "# A utility function to build features from the original df\n",
    "# It works for rows to, so we can reutilize it.\n",
    "def get_features(df):\n",
    "    df_feat = df[['Count', 'Open', 'High', 'Low', 'Close', 'Volume', 'VWAP']].copy()\n",
    "    df_feat['Upper_Shadow'] = upper_shadow(df_feat)\n",
    "    df_feat['Lower_Shadow'] = lower_shadow(df_feat)\n",
    "    return df_feat\n",
    "\n",
    "def get_Xy_and_model_for_asset(df_train, asset_id):\n",
    "    df = df_train[df_train[\"Asset_ID\"] == asset_id]\n",
    "    \n",
    "    # TODO: Try different features here!\n",
    "    df_proc = get_features(df)\n",
    "    df_proc['y'] = df['Target']\n",
    "    df_proc = df_proc.dropna(how=\"any\")\n",
    "    \n",
    "    X = df_proc.drop(\"y\", axis=1)\n",
    "    y = df_proc[\"y\"]\n",
    "    \n",
    "    # TODO: Try different models here!\n",
    "    model = LGBMRegressor(n_estimators=5)\n",
    "    model.fit(X, y)\n",
    "    return X, y, model"
   ]
  },
  {
   "cell_type": "markdown",
   "id": "4b61a323",
   "metadata": {
    "papermill": {
     "duration": 0.01679,
     "end_time": "2021-12-01T09:44:41.164490",
     "exception": false,
     "start_time": "2021-12-01T09:44:41.147700",
     "status": "completed"
    },
    "tags": []
   },
   "source": [
    "## Loop over all assets"
   ]
  },
  {
   "cell_type": "code",
   "execution_count": 7,
   "id": "a088b6cf",
   "metadata": {
    "execution": {
     "iopub.execute_input": "2021-12-01T09:44:41.207188Z",
     "iopub.status.busy": "2021-12-01T09:44:41.206464Z",
     "iopub.status.idle": "2021-12-01T09:45:00.967468Z",
     "shell.execute_reply": "2021-12-01T09:45:00.968613Z",
     "shell.execute_reply.started": "2021-12-01T09:42:08.831738Z"
    },
    "papermill": {
     "duration": 19.78641,
     "end_time": "2021-12-01T09:45:00.968841",
     "exception": false,
     "start_time": "2021-12-01T09:44:41.182431",
     "status": "completed"
    },
    "tags": []
   },
   "outputs": [
    {
     "name": "stdout",
     "output_type": "stream",
     "text": [
      "Training model for Binance Coin     (ID=0 )\n",
      "Training model for Bitcoin          (ID=1 )\n",
      "Training model for Bitcoin Cash     (ID=2 )\n",
      "Training model for Cardano          (ID=3 )\n",
      "Training model for Dogecoin         (ID=4 )\n",
      "Training model for EOS.IO           (ID=5 )\n",
      "Training model for Ethereum         (ID=6 )\n",
      "Training model for Ethereum Classic (ID=7 )\n",
      "Training model for IOTA             (ID=8 )\n",
      "Training model for Litecoin         (ID=9 )\n",
      "Training model for Maker            (ID=10)\n",
      "Training model for Monero           (ID=11)\n",
      "Training model for Stellar          (ID=12)\n",
      "Training model for TRON             (ID=13)\n"
     ]
    }
   ],
   "source": [
    "Xs = {}\n",
    "ys = {}\n",
    "models = {}\n",
    "\n",
    "for asset_id, asset_name in zip(df_asset_details['Asset_ID'], df_asset_details['Asset_Name']):\n",
    "    print(f\"Training model for {asset_name:<16} (ID={asset_id:<2})\")\n",
    "    X, y, model = get_Xy_and_model_for_asset(df_train, asset_id)    \n",
    "    Xs[asset_id], ys[asset_id], models[asset_id] = X, y, model"
   ]
  },
  {
   "cell_type": "code",
   "execution_count": 8,
   "id": "7c24668e",
   "metadata": {
    "execution": {
     "iopub.execute_input": "2021-12-01T09:45:01.024266Z",
     "iopub.status.busy": "2021-12-01T09:45:01.023400Z",
     "iopub.status.idle": "2021-12-01T09:45:01.030546Z",
     "shell.execute_reply": "2021-12-01T09:45:01.031085Z",
     "shell.execute_reply.started": "2021-12-01T09:42:37.727819Z"
    },
    "papermill": {
     "duration": 0.038572,
     "end_time": "2021-12-01T09:45:01.031292",
     "exception": false,
     "start_time": "2021-12-01T09:45:00.992720",
     "status": "completed"
    },
    "tags": []
   },
   "outputs": [
    {
     "data": {
      "text/plain": [
       "2.058377389228335e-05"
      ]
     },
     "execution_count": 8,
     "metadata": {},
     "output_type": "execute_result"
    }
   ],
   "source": [
    "# Check the model interface\n",
    "x = get_features(df_train.iloc[1])\n",
    "y_pred = models[0].predict([x])\n",
    "y_pred[0]"
   ]
  },
  {
   "cell_type": "markdown",
   "id": "4888ec43",
   "metadata": {
    "execution": {
     "iopub.status.busy": "2021-11-02T20:57:49.349459Z",
     "iopub.status.idle": "2021-11-02T20:57:49.349757Z",
     "shell.execute_reply": "2021-11-02T20:57:49.349613Z",
     "shell.execute_reply.started": "2021-11-02T20:57:49.349596Z"
    },
    "papermill": {
     "duration": 0.021526,
     "end_time": "2021-12-01T09:45:01.076348",
     "exception": false,
     "start_time": "2021-12-01T09:45:01.054822",
     "status": "completed"
    },
    "tags": []
   },
   "source": [
    "# Predict & submit\n",
    "\n",
    "References: [Detailed API Introduction](https://www.kaggle.com/sohier/detailed-api-introduction)\n",
    "\n",
    "Something that helped me understand this iterator was adding a pdb checkpoint inside of the for loop:\n",
    "\n",
    "```python\n",
    "import pdb; pdb.set_trace()\n",
    "```\n",
    "\n",
    "See [Python Debugging With Pdb](https://realpython.com/python-debugging-pdb/) if you want to use it and you don't know how to.\n"
   ]
  },
  {
   "cell_type": "code",
   "execution_count": 9,
   "id": "23acdbe0",
   "metadata": {
    "execution": {
     "iopub.execute_input": "2021-12-01T09:45:01.129048Z",
     "iopub.status.busy": "2021-12-01T09:45:01.128344Z",
     "iopub.status.idle": "2021-12-01T09:45:01.333914Z",
     "shell.execute_reply": "2021-12-01T09:45:01.334565Z",
     "shell.execute_reply.started": "2021-12-01T09:42:42.762668Z"
    },
    "papermill": {
     "duration": 0.236365,
     "end_time": "2021-12-01T09:45:01.334809",
     "exception": false,
     "start_time": "2021-12-01T09:45:01.098444",
     "status": "completed"
    },
    "tags": []
   },
   "outputs": [
    {
     "name": "stdout",
     "output_type": "stream",
     "text": [
      "This version of the API is not optimized and should not be used to estimate the runtime of your code on the hidden test set.\n"
     ]
    },
    {
     "data": {
      "text/plain": [
       "Count             1201.000000\n",
       "Open                 1.478556\n",
       "High                 1.486030\n",
       "Low                  1.478000\n",
       "Close                1.483681\n",
       "Volume          654799.561103\n",
       "VWAP                 1.481439\n",
       "Upper_Shadow         0.002349\n",
       "Lower_Shadow         0.000556\n",
       "Name: 0, dtype: float64"
      ]
     },
     "metadata": {},
     "output_type": "display_data"
    },
    {
     "data": {
      "text/html": [
       "<div>\n",
       "<style scoped>\n",
       "    .dataframe tbody tr th:only-of-type {\n",
       "        vertical-align: middle;\n",
       "    }\n",
       "\n",
       "    .dataframe tbody tr th {\n",
       "        vertical-align: top;\n",
       "    }\n",
       "\n",
       "    .dataframe thead th {\n",
       "        text-align: right;\n",
       "    }\n",
       "</style>\n",
       "<table border=\"1\" class=\"dataframe\">\n",
       "  <thead>\n",
       "    <tr style=\"text-align: right;\">\n",
       "      <th></th>\n",
       "      <th>row_id</th>\n",
       "      <th>Target</th>\n",
       "    </tr>\n",
       "  </thead>\n",
       "  <tbody>\n",
       "    <tr>\n",
       "      <th>0</th>\n",
       "      <td>0</td>\n",
       "      <td>-0.000010</td>\n",
       "    </tr>\n",
       "    <tr>\n",
       "      <th>1</th>\n",
       "      <td>1</td>\n",
       "      <td>-0.000001</td>\n",
       "    </tr>\n",
       "    <tr>\n",
       "      <th>2</th>\n",
       "      <td>2</td>\n",
       "      <td>0.000021</td>\n",
       "    </tr>\n",
       "    <tr>\n",
       "      <th>3</th>\n",
       "      <td>3</td>\n",
       "      <td>0.000005</td>\n",
       "    </tr>\n",
       "    <tr>\n",
       "      <th>4</th>\n",
       "      <td>4</td>\n",
       "      <td>0.000041</td>\n",
       "    </tr>\n",
       "    <tr>\n",
       "      <th>5</th>\n",
       "      <td>5</td>\n",
       "      <td>-0.000002</td>\n",
       "    </tr>\n",
       "    <tr>\n",
       "      <th>6</th>\n",
       "      <td>6</td>\n",
       "      <td>0.000063</td>\n",
       "    </tr>\n",
       "    <tr>\n",
       "      <th>7</th>\n",
       "      <td>7</td>\n",
       "      <td>-0.000004</td>\n",
       "    </tr>\n",
       "    <tr>\n",
       "      <th>8</th>\n",
       "      <td>8</td>\n",
       "      <td>0.000005</td>\n",
       "    </tr>\n",
       "    <tr>\n",
       "      <th>9</th>\n",
       "      <td>9</td>\n",
       "      <td>-0.000014</td>\n",
       "    </tr>\n",
       "    <tr>\n",
       "      <th>10</th>\n",
       "      <td>10</td>\n",
       "      <td>-0.000008</td>\n",
       "    </tr>\n",
       "    <tr>\n",
       "      <th>11</th>\n",
       "      <td>11</td>\n",
       "      <td>0.000021</td>\n",
       "    </tr>\n",
       "    <tr>\n",
       "      <th>12</th>\n",
       "      <td>12</td>\n",
       "      <td>-0.000022</td>\n",
       "    </tr>\n",
       "    <tr>\n",
       "      <th>13</th>\n",
       "      <td>13</td>\n",
       "      <td>0.000002</td>\n",
       "    </tr>\n",
       "  </tbody>\n",
       "</table>\n",
       "</div>"
      ],
      "text/plain": [
       "    row_id    Target\n",
       "0        0 -0.000010\n",
       "1        1 -0.000001\n",
       "2        2  0.000021\n",
       "3        3  0.000005\n",
       "4        4  0.000041\n",
       "5        5 -0.000002\n",
       "6        6  0.000063\n",
       "7        7 -0.000004\n",
       "8        8  0.000005\n",
       "9        9 -0.000014\n",
       "10      10 -0.000008\n",
       "11      11  0.000021\n",
       "12      12 -0.000022\n",
       "13      13  0.000002"
      ]
     },
     "metadata": {},
     "output_type": "display_data"
    }
   ],
   "source": [
    "all_df_test = []\n",
    "\n",
    "env = gresearch_crypto.make_env()\n",
    "iter_test = env.iter_test()\n",
    "\n",
    "for i, (df_test, df_pred) in enumerate(iter_test):\n",
    "    for j , row in df_test.iterrows():\n",
    "        \n",
    "        model = models[row['Asset_ID']]\n",
    "        x_test = get_features(row)\n",
    "        y_pred = model.predict([x_test])[0]\n",
    "        \n",
    "        df_pred.loc[df_pred['row_id'] == row['row_id'], 'Target'] = y_pred\n",
    "        \n",
    "        \n",
    "        # Print just one sample row to get a feeling of what it looks like\n",
    "        if i == 0 and j == 0:\n",
    "            display(x_test)\n",
    "\n",
    "    # Display the first prediction dataframe\n",
    "    if i == 0:\n",
    "        display(df_pred)\n",
    "    all_df_test.append(df_test)\n",
    "\n",
    "    # Send submissions\n",
    "    env.predict(df_pred)"
   ]
  },
  {
   "cell_type": "markdown",
   "id": "250919f8",
   "metadata": {
    "papermill": {
     "duration": 0.023935,
     "end_time": "2021-12-01T09:45:01.383386",
     "exception": false,
     "start_time": "2021-12-01T09:45:01.359451",
     "status": "completed"
    },
    "tags": []
   },
   "source": [
    "# df_train and df_test overlap"
   ]
  },
  {
   "cell_type": "code",
   "execution_count": 10,
   "id": "3a08df31",
   "metadata": {
    "execution": {
     "iopub.execute_input": "2021-12-01T09:45:01.437874Z",
     "iopub.status.busy": "2021-12-01T09:45:01.437135Z",
     "iopub.status.idle": "2021-12-01T09:45:02.954207Z",
     "shell.execute_reply": "2021-12-01T09:45:02.953562Z",
     "shell.execute_reply.started": "2021-12-01T09:42:50.988814Z"
    },
    "papermill": {
     "duration": 1.547373,
     "end_time": "2021-12-01T09:45:02.954354",
     "exception": false,
     "start_time": "2021-12-01T09:45:01.406981",
     "status": "completed"
    },
    "tags": []
   },
   "outputs": [],
   "source": [
    "df_test = pd.concat(all_df_test)\n",
    "df_test['datetime'] = pd.to_datetime(df_test['timestamp'], unit='s')\n",
    "df_train['datetime'] = pd.to_datetime(df_train['timestamp'], unit='s')"
   ]
  },
  {
   "cell_type": "code",
   "execution_count": 11,
   "id": "134d6498",
   "metadata": {
    "execution": {
     "iopub.execute_input": "2021-12-01T09:45:03.007615Z",
     "iopub.status.busy": "2021-12-01T09:45:03.006490Z",
     "iopub.status.idle": "2021-12-01T09:45:03.083730Z",
     "shell.execute_reply": "2021-12-01T09:45:03.083066Z",
     "shell.execute_reply.started": "2021-12-01T09:42:52.734709Z"
    },
    "papermill": {
     "duration": 0.105926,
     "end_time": "2021-12-01T09:45:03.083897",
     "exception": false,
     "start_time": "2021-12-01T09:45:02.977971",
     "status": "completed"
    },
    "tags": []
   },
   "outputs": [
    {
     "data": {
      "text/plain": [
       "Timestamp('2021-06-12 23:59:00')"
      ]
     },
     "execution_count": 11,
     "metadata": {},
     "output_type": "execute_result"
    }
   ],
   "source": [
    "df_train['datetime'].max()"
   ]
  },
  {
   "cell_type": "code",
   "execution_count": 12,
   "id": "b33b248b",
   "metadata": {
    "execution": {
     "iopub.execute_input": "2021-12-01T09:45:03.139310Z",
     "iopub.status.busy": "2021-12-01T09:45:03.138425Z",
     "iopub.status.idle": "2021-12-01T09:45:03.141920Z",
     "shell.execute_reply": "2021-12-01T09:45:03.142427Z",
     "shell.execute_reply.started": "2021-12-01T09:42:52.829973Z"
    },
    "papermill": {
     "duration": 0.034509,
     "end_time": "2021-12-01T09:45:03.142597",
     "exception": false,
     "start_time": "2021-12-01T09:45:03.108088",
     "status": "completed"
    },
    "tags": []
   },
   "outputs": [
    {
     "data": {
      "text/plain": [
       "Timestamp('2021-06-13 00:00:00')"
      ]
     },
     "execution_count": 12,
     "metadata": {},
     "output_type": "execute_result"
    }
   ],
   "source": [
    "df_test['datetime'].min()"
   ]
  },
  {
   "cell_type": "code",
   "execution_count": null,
   "id": "e0f6d67b",
   "metadata": {
    "papermill": {
     "duration": 0.025493,
     "end_time": "2021-12-01T09:45:03.193428",
     "exception": false,
     "start_time": "2021-12-01T09:45:03.167935",
     "status": "completed"
    },
    "tags": []
   },
   "outputs": [],
   "source": []
  }
 ],
 "metadata": {
  "kernelspec": {
   "display_name": "Python 3",
   "language": "python",
   "name": "python3"
  },
  "language_info": {
   "codemirror_mode": {
    "name": "ipython",
    "version": 3
   },
   "file_extension": ".py",
   "mimetype": "text/x-python",
   "name": "python",
   "nbconvert_exporter": "python",
   "pygments_lexer": "ipython3",
   "version": "3.7.10"
  },
  "papermill": {
   "default_parameters": {},
   "duration": 98.645251,
   "end_time": "2021-12-01T09:45:04.029924",
   "environment_variables": {},
   "exception": null,
   "input_path": "__notebook__.ipynb",
   "output_path": "__notebook__.ipynb",
   "parameters": {},
   "start_time": "2021-12-01T09:43:25.384673",
   "version": "2.3.3"
  }
 },
 "nbformat": 4,
 "nbformat_minor": 5
}
